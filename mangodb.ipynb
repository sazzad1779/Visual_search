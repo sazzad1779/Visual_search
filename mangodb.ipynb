{
 "cells": [
  {
   "cell_type": "code",
   "execution_count": null,
   "metadata": {},
   "outputs": [
    {
     "name": "stdout",
     "output_type": "stream",
     "text": [
      "Connected to MongoDB database: nawabii\n",
      "\n",
      "Collections in database:\n",
      "['shops', 'orders', 'newsletters', 'subcategories', 'compaigns', 'notifications', 'currencies', 'brands', 'productreviews', 'reviews', 'categories', 'users', 'payments', 'couponcodes', 'products', 'your_collection_name']\n",
      "\n",
      "Fetching 5 products:\n",
      "Product 1: {'_id': ObjectId('67cf20293a82f839878d1dbb'), 'name': 'Men Pleven Slip Fit Sneakers', 'code': '243', 'status': 'new', 'isFeatured': True, 'brand': ObjectId('6638b1b58cf55011c13bec86'), 'likes': 0, 'description': 'Men Pleven Slip Fit Sneakers', 'metaTitle': 'Men Pleven Slip Fit Sneakers', 'metaDescription': 'Men Pleven Slip Fit Sneakers', 'slug': 'men-pleven-slip-fit-sneakers', 'category': ObjectId('6638b00648914713daaecc12'), 'subCategory': ObjectId('6638b0e59b27bcc758cebedc'), 'gender': 'men', 'tags': ['Men Pleven Slip Fit Sneakers', 'Men Pleven', ' Sneakers', 'Men Pleven Slip Fit'], 'sku': '5343', 'price': 50, 'priceSale': 45, 'available': 98, 'sold': 2, 'reviews': [], 'shop': ObjectId('6638b9a6231589962139f74a'), 'images': [{'url': 'https://res.cloudinary.com/dcuwtg4h1/image/upload/v1714991890/1102-navy-up-jpg-1_1709792891-48999621490_aqrkut.jpg', '_id': '1102-navy-up-jpg-1_1709792891-48999621490_aqrkut', 'blurDataURL': 'data:image/png;base64,'}, {'url': 'https://res.cloudinary.com/dcuwtg4h1/image/upload/v1714991896/1102-navy-side-jpg-3_1709792890-835543855083_juld6n.jpg', '_id': '1102-navy-side-jpg-3_1709792890-835543855083_juld6n', 'blurDataURL': 'data:image/png;base64,'}, {'url': 'https://res.cloudinary.com/dcuwtg4h1/image/upload/v1714991901/1102-navy-side-jpg-8_1709792891-9999026504_b1kyng.jpg', '_id': '1102-navy-side-jpg-8_1709792891-9999026504_b1kyng', 'blurDataURL': 'data:image/png;base64,'}, {'url': 'https://res.cloudinary.com/dcuwtg4h1/image/upload/v1714991904/1102-navy-top-jpg-1_1709792891-476449018588_i8ipae.jpg', '_id': '1102-navy-top-jpg-1_1709792891-476449018588_i8ipae', 'blurDataURL': 'data:image/png;base64,'}], 'colors': ['blue', 'white'], 'sizes': ['md', 'lg'], 'createdAt': datetime.datetime(2025, 3, 10, 17, 23, 53, 903000), 'updatedAt': datetime.datetime(2025, 3, 11, 9, 24, 40, 671000), '__v': 0}\n",
      "Product 2: {'_id': ObjectId('67cff86ab512bcdf6c062515'), 'name': 'Stylish New T-Shirt - Casual Exclusive Half Sleeve For Men', 'code': 'JF001', 'status': 'active', 'isFeatured': True, 'brand': ObjectId('67cff7a6b512bcdf6c06248b'), 'likes': 0, 'description': 'Experience style and comfort with our latest collection of casual exclusive half sleeve T-shirts designed specifically for men. Perfect for both everyday wear and special occasions.', 'metaTitle': 'Stylish New T-Shirt For Men', 'metaDescription': 'Buy our Stylish New T-Shirt, perfect for casual wear and exclusive enough for any occasion. Made from premium materials for comfort and durability.', 'slug': 'stylish-new-tshirt-casual-exclusive-half-sleeve-for-men', 'category': ObjectId('507f1f77bcf86cd799439011'), 'subCategory': ObjectId('507f1f77bcf86cd799439012'), 'gender': 'men', 'tags': ['Stylish', 'Casual', 'Half Sleeve', 'Men', 'Comfort'], 'sku': 'SKU12345', 'price': 29.99, 'priceSale': 19.99, 'available': 98, 'sold': 2, 'reviews': [], 'shop': ObjectId('507f1f77bcf86cd799439013'), 'images': [{'url': 'https://bd-live-21.slatic.net/kf/Sa0a96da490ac49bcbd5e4ea5e30227f0u.jpg', '_id': '507f1f77bcf86cd799439014', 'blurDataURL': 'data:image/png;base64,'}], 'colors': ['blue', 'black', 'white'], 'sizes': ['S', 'M', 'L', 'XL'], 'createdAt': datetime.datetime(2025, 3, 11, 8, 46, 34, 243000), 'updatedAt': datetime.datetime(2025, 3, 13, 7, 1, 51, 681000), '__v': 0}\n",
      "Product 3: {'_id': ObjectId('67d12147b512bcdf6c0647b2'), 'name': 'Samsung Galaxy S24+ Plus Cell Phone', 'code': '1012', 'status': 'sale', 'isFeatured': False, 'brand': ObjectId('67cf218c3a82f839878d1e20'), 'likes': 0, 'description': 'CIRCLE & SEARCH¹ IN A SNAP: What’s your favorite influencer wearing? Where’d they go on vacation? What’s that word mean? Don’t try to describe it — use Circle to Search1 with Google to get the answer; With S24 Series, circle it on your screen and learn more\\nREAL EASY, REAL-TIME TRANSLATIONS: Speak foreign languages on the spot with Live Translate²; Unlock the power of convenient communication with near real-time voice translations, right through your Samsung Phone app\\nNOTE SMARTER, NOT HARDER: Focus on capturing your notes and spend less time perfecting them; Note Assist³ will summarize, format, and even translate them for you; All of your notes are organized neatly so that you can find what you need\\nMORE WOW, LESS WORK: Turn every photo into a post-worthy masterpiece; Move or remove objects; Fill in empty space; Simply snap a pic and take it from great to jaw-dropping with Generative Edit⁴\\nCAPTURE. SHARE. IMPRESS: Share more of life’s most share-worthy moments in natural, true-to-life color with 50MP camera\\nOUR MOST POWERFUL GALAXY SMARTPHONE YET: Jump seamlessly between apps without the wait and see content in high quality with our fastest processor yet, Snapdragon 8 Gen 3 for Galaxy⁵\\nPUT YOUR BEST TEXT FORWARD: Say the right thing at the right time in no time with Chat Assist⁶; Get real-time tone suggestions to make your writing sound more professional or conversational; Plus, make typos a thing of the past', 'metaTitle': 'samsung', 'metaDescription': 'samsung', 'slug': 'samsung-galaxy-s24-plus-cell-phone', 'category': ObjectId('67d11caab512bcdf6c06437c'), 'subCategory': ObjectId('67d11d37b512bcdf6c06443d'), 'gender': '', 'tags': ['samsung', 'phone'], 'sku': '1012', 'price': 55000, 'priceSale': 50000, 'available': 100, 'sold': 0, 'reviews': [], 'shop': ObjectId('67cf1f9b3a82f839878d1d0e'), 'images': [{'url': 'https://res.cloudinary.com/dfd7ia0w5/image/upload/v1741758774/sqwkoshbohxu1cvylumx.jpg', '_id': 'sqwkoshbohxu1cvylumx', 'blurDataURL': 'data:image/png;base64,'}, {'url': 'https://res.cloudinary.com/dfd7ia0w5/image/upload/v1741758780/wvhmbnbbqthtvwvjwhhb.jpg', '_id': 'wvhmbnbbqthtvwvjwhhb', 'blurDataURL': 'data:image/png;base64,'}, {'url': 'https://res.cloudinary.com/dfd7ia0w5/image/upload/v1741758784/qkh6pgahelffjvhaw3x3.jpg', '_id': 'qkh6pgahelffjvhaw3x3', 'blurDataURL': 'data:image/png;base64,'}], 'colors': ['white', 'blue', 'gold'], 'sizes': ['6.5', '6.8', '7.1'], 'createdAt': datetime.datetime(2025, 3, 12, 5, 53, 11, 223000), 'updatedAt': datetime.datetime(2025, 3, 12, 5, 53, 11, 223000), '__v': 0}\n",
      "Product 4: {'_id': ObjectId('67d12228b512bcdf6c06485f'), 'name': 'Apple iPhone 15 Pro Max, 256GB', 'code': '1013', 'status': 'sale', 'isFeatured': False, 'brand': ObjectId('67d11e63b512bcdf6c064475'), 'likes': 0, 'description': '6.7inch Super Retina XDR display. ProMotion technology. Always-On display. Titanium with textured matte glass back. Action button\\nDynamic Island. A magical way to interact with iPhone. A17 Pro chip with 6-core GPU\\nPro camera system. 48MP Main | Ultra Wide| Telephoto. Super-high-resolution photos (24MP and 48MP). Next-generation portraits with Focus and Depth Control. Up to 10x optical zoom range\\nEmergency SOS via satellite. Crash Detection. Roadside Assistance via satellite\\nUp to 29 hours video playback. USB-C, Supports USB 3 for up to 20x faster transfers. Face ID', 'metaTitle': 'iphone', 'metaDescription': 'iphone', 'slug': 'apple-iphone-15-pro-max-256gb', 'category': ObjectId('67d11caab512bcdf6c06437c'), 'subCategory': ObjectId('67d11d78b512bcdf6c06444e'), 'gender': '', 'tags': ['iphone', 'phone'], 'sku': '1013', 'price': 75000, 'priceSale': 70000, 'available': 100, 'sold': 0, 'reviews': [], 'shop': ObjectId('67cf1f9b3a82f839878d1d0e'), 'images': [{'url': 'https://res.cloudinary.com/dfd7ia0w5/image/upload/v1741758981/wnzwune4memu3kf73yva.jpg', '_id': 'wnzwune4memu3kf73yva', 'blurDataURL': 'data:image/png;base64,'}, {'url': 'https://res.cloudinary.com/dfd7ia0w5/image/upload/v1741758988/cpxs7yyjpkrzijubggar.jpg', '_id': 'cpxs7yyjpkrzijubggar', 'blurDataURL': 'data:image/png;base64,'}, {'url': 'https://res.cloudinary.com/dfd7ia0w5/image/upload/v1741758993/eh7f0ev4p4onqzhiwgtv.jpg', '_id': 'eh7f0ev4p4onqzhiwgtv', 'blurDataURL': 'data:image/png;base64,'}], 'colors': ['white', 'red', 'blue'], 'sizes': ['5.8', '6.0', '6.5'], 'createdAt': datetime.datetime(2025, 3, 12, 5, 56, 56, 343000), 'updatedAt': datetime.datetime(2025, 3, 12, 5, 56, 56, 343000), '__v': 0}\n",
      "Product 5: {'_id': ObjectId('67d1233ab512bcdf6c0648a0'), 'name': 'Google Pixel 9', 'code': '1014', 'status': 'sale', 'isFeatured': False, 'brand': ObjectId('67d11eaab512bcdf6c06448c'), 'likes': 0, 'description': 'Google Pixel 9 with Gemini gets the best of Google AI first, so you can take amazing photos, make edits like magic, and get things done even easier\\nUnlocked Android phone gives you the flexibility to change carriers and choose your own data plan[1]; it works with Google Fi, Verizon, T-Mobile, AT&T, and other major carriers\\nThe award-winning Pixel Camera includes a 50 MP main sensor for incredible image and video quality, and a new 48 MP ultrawide camera for stunning Macro Focus\\nMake your photos better than you can imagine with Google AI; take a picture and be in it too with Add Me[2]; Best Take helps everyone look their best; and with Magic Editor, you can reframe photos, reimagine the scenery, and more[2]\\nGet more info quickly with Gemini, your built-in AI assistant[3]; instead of typing, use Gemini Live; it follows along even if you change the topic or switch the question[30]; and Pixel Screenshots helps you save things you’ll want to remember later', 'metaTitle': 'Google Pixel 9', 'metaDescription': 'Google Pixel 9', 'slug': 'google-pixel-9', 'category': ObjectId('67d11caab512bcdf6c06437c'), 'subCategory': ObjectId('67d11e2eb512bcdf6c06445c'), 'gender': '', 'tags': ['Google Pixel'], 'sku': '1014', 'price': 85000, 'priceSale': 80000, 'available': 99, 'sold': 1, 'reviews': [], 'shop': ObjectId('67cf1f9b3a82f839878d1d0e'), 'images': [{'url': 'https://res.cloudinary.com/dfd7ia0w5/image/upload/v1741759257/d0tsnhio8fs6jf7tre8q.jpg', '_id': 'd0tsnhio8fs6jf7tre8q', 'blurDataURL': 'data:image/png;base64,'}, {'url': 'https://res.cloudinary.com/dfd7ia0w5/image/upload/v1741759264/f3julaep1swz68rplqxl.jpg', '_id': 'f3julaep1swz68rplqxl', 'blurDataURL': 'data:image/png;base64,'}, {'url': 'https://res.cloudinary.com/dfd7ia0w5/image/upload/v1741759269/ummvhnamf0wtktrmwudu.jpg', '_id': 'ummvhnamf0wtktrmwudu', 'blurDataURL': 'data:image/png;base64,'}], 'colors': ['white', 'red', 'blue'], 'sizes': ['6.7', '6.5', '7.0'], 'createdAt': datetime.datetime(2025, 3, 12, 6, 1, 30, 598000), 'updatedAt': datetime.datetime(2025, 3, 13, 7, 1, 51, 682000), '__v': 0}\n"
     ]
    }
   ],
   "source": [
    "from connect_mongodb import MongoDB\n",
    "\n",
    "# MongoDB Connection\n",
    "MONGO_URI = \"mongodb://54.169.96.208:27017\"\n",
    "DB_NAME = \"nawabii\"\n",
    "\n",
    "# Initialize MongoDB instance\n",
    "mongo_db = MongoDB(MONGO_URI, DB_NAME)\n",
    "\n",
    "# List collections\n",
    "collections = mongo_db.list_collections()\n",
    "print(\"\\nCollections in database:\")\n",
    "print(collections)\n",
    "\n",
    "# Fetch 5 rows from the \"products\" collection\n",
    "print(\"\\nFetching 5 products:\")\n",
    "products = mongo_db.fetch_documents(\"products\", limit=5,fields={\"_id\": 0,\"_id\": 1, \"name\": 1})\n",
    "\n",
    "for idx, product in enumerate(products, start=1):\n",
    "    print(f\"Product {idx}: {product}\")\n"
   ]
  },
  {
   "cell_type": "code",
   "execution_count": null,
   "metadata": {},
   "outputs": [
    {
     "data": {
      "text/plain": [
       "Traceback (most recent call last):\n",
       "  File \"/Users/macbookpro/.vscode/extensions/ms-python.python-2025.2.0-darwin-arm64/python_files/python_server.py\", line 133, in exec_user_input\n",
       "    retval = callable_(user_input, user_globals)\n",
       "             ^^^^^^^^^^^^^^^^^^^^^^^^^^^^^^^^^^^\n",
       "  File \"<string>\", line 2, in <module>\n",
       "KeyError: 'products'\n",
       "\n"
      ]
     },
     "metadata": {},
     "output_type": "display_data"
    }
   ],
   "source": [
    "collection = db[\"products\"]\n",
    "collection.find().limit(5)"
   ]
  },
  {
   "cell_type": "code",
   "execution_count": null,
   "metadata": {},
   "outputs": [],
   "source": []
  }
 ],
 "metadata": {
  "kernelspec": {
   "display_name": "env",
   "language": "python",
   "name": "python3"
  },
  "language_info": {
   "codemirror_mode": {
    "name": "ipython",
    "version": 3
   },
   "file_extension": ".py",
   "mimetype": "text/x-python",
   "name": "python",
   "nbconvert_exporter": "python",
   "pygments_lexer": "ipython3",
   "version": "3.11.4"
  }
 },
 "nbformat": 4,
 "nbformat_minor": 2
}
